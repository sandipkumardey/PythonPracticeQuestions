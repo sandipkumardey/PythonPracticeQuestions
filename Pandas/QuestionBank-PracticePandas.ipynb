{
 "cells": [
  {
   "cell_type": "markdown",
   "id": "415fd8bd-07a2-4f7f-9780-4e8baa3891e5",
   "metadata": {},
   "source": [
    "# QuestionBank-PracticePandas"
   ]
  },
  {
   "cell_type": "code",
   "execution_count": 3,
   "id": "21848410-fdd1-4330-bb71-c11cddb4b084",
   "metadata": {},
   "outputs": [],
   "source": [
    "import pandas as pd"
   ]
  },
  {
   "cell_type": "code",
   "execution_count": 5,
   "id": "719956ee-b432-4da0-ba32-2b75254180a9",
   "metadata": {},
   "outputs": [
    {
     "name": "stdout",
     "output_type": "stream",
     "text": [
      "   A  C\n",
      "0  1  3\n",
      "1  3  7\n"
     ]
    }
   ],
   "source": [
    "data = [{'A': 1, 'B': 2}, {'A': 3, 'B': 4}]\n",
    "df = pd.DataFrame(data)\n",
    "df['C'] = df['A'] + df['B']\n",
    "df = df.drop(columns=['B'])\n",
    "df_sorted = df.sort_values(by='A')\n",
    "print(df_sorted)"
   ]
  },
  {
   "cell_type": "code",
   "execution_count": null,
   "id": "dcd271e0-b10a-4e10-874e-f055db47bd04",
   "metadata": {},
   "outputs": [],
   "source": []
  }
 ],
 "metadata": {
  "kernelspec": {
   "display_name": "Python [conda env:base] *",
   "language": "python",
   "name": "conda-base-py"
  },
  "language_info": {
   "codemirror_mode": {
    "name": "ipython",
    "version": 3
   },
   "file_extension": ".py",
   "mimetype": "text/x-python",
   "name": "python",
   "nbconvert_exporter": "python",
   "pygments_lexer": "ipython3",
   "version": "3.12.7"
  }
 },
 "nbformat": 4,
 "nbformat_minor": 5
}
