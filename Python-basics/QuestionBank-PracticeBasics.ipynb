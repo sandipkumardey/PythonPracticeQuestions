{
 "cells": [
  {
   "cell_type": "markdown",
   "id": "8cdbfe0f-c10c-4699-9a16-8709cce9ba95",
   "metadata": {},
   "source": [
    "# QuestionBank-PracticeBasics "
   ]
  },
  {
   "cell_type": "code",
   "execution_count": 1,
   "id": "babcc6c1-b2e2-4d29-9386-d4cbbe7ec712",
   "metadata": {},
   "outputs": [
    {
     "name": "stdout",
     "output_type": "stream",
     "text": [
      "Hello, Alice!\n"
     ]
    }
   ],
   "source": [
    "def greet(name):\n",
    "    print(f\"Hello, {name}!\")\n",
    "greet(\"Alice\")"
   ]
  },
  {
   "cell_type": "code",
   "execution_count": 9,
   "id": "ebb7c1a0-fb71-4f20-8557-226a4ca67af2",
   "metadata": {},
   "outputs": [],
   "source": [
    "squares = [x*2 for x in range(5)]"
   ]
  },
  {
   "cell_type": "code",
   "execution_count": 13,
   "id": "d7a468bb-2e77-404c-9f57-f95b3346a6f0",
   "metadata": {},
   "outputs": [],
   "source": [
    "class MyClass:\n",
    "    def __init__(self):\n",
    "        self.value = 10"
   ]
  },
  {
   "cell_type": "markdown",
   "id": "54f921df-007f-45e3-8bc2-66fb7c3a42b6",
   "metadata": {},
   "source": [
    "**Write a Python program to find the factorial of a number using recursion.**"
   ]
  },
  {
   "cell_type": "code",
   "execution_count": 19,
   "id": "6b1efcf8-4cd8-462a-83ee-ab5b37d6dbee",
   "metadata": {},
   "outputs": [
    {
     "name": "stdout",
     "output_type": "stream",
     "text": [
      "120\n"
     ]
    }
   ],
   "source": [
    "def factorial(n):\n",
    "    if n == 0:\n",
    "        return 1\n",
    "    else:\n",
    "        return n * factorial(n-1)\n",
    "print(factorial(5))"
   ]
  },
  {
   "cell_type": "markdown",
   "id": "96b5b9a4-0c7c-4092-a5ff-68b34a28b5be",
   "metadata": {},
   "source": [
    "**Write a Python program that reads a CSV file and prints its content.**"
   ]
  },
  {
   "cell_type": "code",
   "execution_count": null,
   "id": "05bdec6c-077f-4e3a-a063-9c85a1ec794c",
   "metadata": {},
   "outputs": [],
   "source": [
    "import csv\n",
    "with open('file.csv', mode='r') as file:\n",
    "    csv_reader = csv.reader(file)\n",
    "    for row in csv_reader:\n",
    "        print(row)\n"
   ]
  },
  {
   "cell_type": "markdown",
   "id": "b3c6e0b6-2e09-4cf3-97f5-168aae529c87",
   "metadata": {},
   "source": [
    "**Explain the concept of inheritance in Python with an example.**"
   ]
  },
  {
   "cell_type": "code",
   "execution_count": 33,
   "id": "015e8054-c639-4b2b-871d-a8d9780ab40f",
   "metadata": {},
   "outputs": [
    {
     "name": "stdout",
     "output_type": "stream",
     "text": [
      "Dog barks\n"
     ]
    }
   ],
   "source": [
    "# Inheritance is the mechanism by which a new class inherits the attributes and methods of an existing class.\n",
    "\n",
    "class Animal:\n",
    "    def speak(self):\n",
    "        print(\"Animal speaks\")\n",
    "\n",
    "class Dog(Animal):\n",
    "    def speak(self):\n",
    "        print(\"Dog barks\")\n",
    "\n",
    "dog = Dog()\n",
    "dog.speak()"
   ]
  },
  {
   "cell_type": "markdown",
   "id": "fab45731-69ca-4ae2-9bb5-857537b4386a",
   "metadata": {},
   "source": [
    "**Write a Python program to count the occurrences of each character in a string.**"
   ]
  },
  {
   "cell_type": "code",
   "execution_count": 36,
   "id": "b4ecf4ad-d276-45de-a639-8ded9f53fd3e",
   "metadata": {},
   "outputs": [
    {
     "name": "stdout",
     "output_type": "stream",
     "text": [
      "Counter({'l': 2, 'h': 1, 'e': 1, 'o': 1})\n"
     ]
    }
   ],
   "source": [
    "from collections import Counter\n",
    "string = \"hello\"\n",
    "counts = Counter(string)\n",
    "print(counts)"
   ]
  },
  {
   "cell_type": "markdown",
   "id": "ef29e259-cf14-470c-bcbc-a7d1325cf98b",
   "metadata": {},
   "source": [
    "**What is the purpose of regular expressions in Python? Write a program to check if a string is a valid email.**"
   ]
  },
  {
   "cell_type": "code",
   "execution_count": 41,
   "id": "72bd99ac-3b79-4e7d-b93f-25fa93f2d1fa",
   "metadata": {},
   "outputs": [
    {
     "name": "stdout",
     "output_type": "stream",
     "text": [
      "True\n"
     ]
    }
   ],
   "source": [
    "# Regular expressions (regex) are used for pattern matching in strings. \n",
    "\n",
    "import re\n",
    "def is_valid_email(email):\n",
    "    pattern = r\"[^@]+@[^@]+\\.[^@]+\"\n",
    "    return bool(re.match(pattern, email))\n",
    "print(is_valid_email(\"test@example.com\"))"
   ]
  },
  {
   "cell_type": "markdown",
   "id": "590e8739-13df-494c-9a18-0660433512bc",
   "metadata": {},
   "source": [
    "**Write a Python program to merge two sorted lists into a single sorted list.**"
   ]
  },
  {
   "cell_type": "code",
   "execution_count": 43,
   "id": "935f86af-11d6-4db0-9f7a-640120f190db",
   "metadata": {},
   "outputs": [
    {
     "name": "stdout",
     "output_type": "stream",
     "text": [
      "[1, 2, 3, 4, 5, 6]\n"
     ]
    }
   ],
   "source": [
    "list1 = [1, 3, 5]\n",
    "list2 = [2, 4, 6]\n",
    "merged_list = sorted(list1 + list2)\n",
    "print(merged_list)"
   ]
  },
  {
   "cell_type": "markdown",
   "id": "00ecaa2e-1028-4c21-a41f-5853fa937cb0",
   "metadata": {},
   "source": [
    "**Explain the concept of method overriding in Python with an example.**"
   ]
  },
  {
   "cell_type": "code",
   "execution_count": 47,
   "id": "d35105d8-778e-4246-99e5-32d283759ba7",
   "metadata": {},
   "outputs": [
    {
     "name": "stdout",
     "output_type": "stream",
     "text": [
      "Dog barks\n"
     ]
    }
   ],
   "source": [
    "# Method overriding allows a subclass to provide its own implementation of a method already defined in its superclass.\n",
    "\n",
    "class Animal:\n",
    "    def sound(self):\n",
    "        print(\"Animal makes sound\")\n",
    "\n",
    "class Dog(Animal):\n",
    "    def sound(self):\n",
    "        print(\"Dog barks\")\n",
    "\n",
    "dog = Dog()\n",
    "dog.sound()"
   ]
  },
  {
   "cell_type": "markdown",
   "id": "3fa2afc2-6e17-4f53-9149-b07fa3f5d06b",
   "metadata": {},
   "source": [
    "**Write a Python program to reverse a string without using the built-in reverse function.**"
   ]
  },
  {
   "cell_type": "code",
   "execution_count": 50,
   "id": "a14a4a75-e8a1-42fe-ac23-8d23640d066a",
   "metadata": {},
   "outputs": [
    {
     "name": "stdout",
     "output_type": "stream",
     "text": [
      "olleh\n"
     ]
    }
   ],
   "source": [
    "def reverse_string(s):\n",
    "    return s[::-1]\n",
    "print(reverse_string(\"hello\"))"
   ]
  },
  {
   "cell_type": "markdown",
   "id": "f78286b8-c70d-4cf8-a98c-4f1bef4fc5e7",
   "metadata": {},
   "source": [
    "**Explain the use of list and dictionary comprehensions with examples.**"
   ]
  },
  {
   "cell_type": "code",
   "execution_count": 56,
   "id": "97b3eb89-fba9-4925-bfeb-1c0b21c751a1",
   "metadata": {},
   "outputs": [],
   "source": [
    "# List comprehension:\n",
    "\n",
    "squares = [x**2 for x in range(5)]"
   ]
  },
  {
   "cell_type": "code",
   "execution_count": 58,
   "id": "201e9ef9-fd07-41f8-90c6-cd1625bbb412",
   "metadata": {},
   "outputs": [],
   "source": [
    "# Dictionary comprehension:\n",
    "\n",
    "squares_dict = {x: x**2 for x in range(5)}"
   ]
  },
  {
   "cell_type": "markdown",
   "id": "bfb633d1-667a-470a-a60e-420e1f0ada0b",
   "metadata": {},
   "source": [
    "**Write a Python program to remove all vowels from a string.**\n"
   ]
  },
  {
   "cell_type": "code",
   "execution_count": 61,
   "id": "5ebed0ee-5424-46f4-834b-1a22842c41ed",
   "metadata": {},
   "outputs": [
    {
     "name": "stdout",
     "output_type": "stream",
     "text": [
      "hll wrld\n"
     ]
    }
   ],
   "source": [
    "def remove_vowels(s):\n",
    "    vowels = \"aeiouAEIOU\"\n",
    "    return ''.join([char for char in s if char not in vowels])\n",
    "print(remove_vowels(\"hello world\"))  "
   ]
  }
 ],
 "metadata": {
  "kernelspec": {
   "display_name": "Python [conda env:base] *",
   "language": "python",
   "name": "conda-base-py"
  },
  "language_info": {
   "codemirror_mode": {
    "name": "ipython",
    "version": 3
   },
   "file_extension": ".py",
   "mimetype": "text/x-python",
   "name": "python",
   "nbconvert_exporter": "python",
   "pygments_lexer": "ipython3",
   "version": "3.12.7"
  }
 },
 "nbformat": 4,
 "nbformat_minor": 5
}
