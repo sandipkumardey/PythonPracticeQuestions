{
 "cells": [
  {
   "cell_type": "markdown",
   "id": "3998ad9c-57d9-4980-a451-8de74e2795a6",
   "metadata": {},
   "source": [
    "# QuestionBank-PracticeNumpy"
   ]
  },
  {
   "cell_type": "code",
   "execution_count": 13,
   "id": "bb5a6940-9b29-4722-a7bf-8d6f13a6781c",
   "metadata": {},
   "outputs": [],
   "source": [
    "import numpy as np"
   ]
  },
  {
   "cell_type": "code",
   "execution_count": 15,
   "id": "33fe6273-5981-4ba0-8aca-376964cf8f5c",
   "metadata": {},
   "outputs": [],
   "source": [
    "arr = np.array([1, 2, 3, 4, 5])"
   ]
  },
  {
   "cell_type": "code",
   "execution_count": 24,
   "id": "5f56c5c4-b427-45f7-889a-bda85993e798",
   "metadata": {},
   "outputs": [],
   "source": [
    "arr = np.ones((2, 3))"
   ]
  },
  {
   "cell_type": "code",
   "execution_count": 26,
   "id": "9278b481-15d0-45b5-95bf-eaa191bce105",
   "metadata": {},
   "outputs": [],
   "source": [
    "arr = np.arange(10)"
   ]
  },
  {
   "cell_type": "code",
   "execution_count": 30,
   "id": "55fa134d-ca72-4651-81d4-2c3860e748de",
   "metadata": {},
   "outputs": [],
   "source": [
    "arr = np.arange(6).reshape(2, 3)\n"
   ]
  },
  {
   "cell_type": "code",
   "execution_count": 32,
   "id": "09e93127-65b0-4e9b-a8e8-e9e4c2c093da",
   "metadata": {},
   "outputs": [],
   "source": [
    "arr = np.array([1, 2, 3, 4, 5])\n",
    "mean_val = np.mean(arr)"
   ]
  },
  {
   "cell_type": "code",
   "execution_count": 38,
   "id": "4f580c9a-e3c6-4088-9af0-42a05bb78526",
   "metadata": {},
   "outputs": [],
   "source": [
    "arr = np.array([[1, 2], [3, 4]])\n",
    "flat_arr = arr.flatten()"
   ]
  },
  {
   "cell_type": "code",
   "execution_count": 40,
   "id": "71d40e76-5b1b-4bc8-ad1a-ae7fdab6187d",
   "metadata": {},
   "outputs": [],
   "source": [
    "arr = np.random.rand(5)"
   ]
  },
  {
   "cell_type": "code",
   "execution_count": 42,
   "id": "4d6eae98-8c4f-4e39-85b9-135fc5df3d52",
   "metadata": {},
   "outputs": [],
   "source": [
    "arr = np.random.randint(1, 100, 10)"
   ]
  },
  {
   "cell_type": "code",
   "execution_count": 46,
   "id": "76d79956-0a66-438d-b627-66458c08c5dc",
   "metadata": {},
   "outputs": [],
   "source": [
    "arr = np.array([1, 2, 3, 4])\n",
    "cumsum = np.cumsum(arr)"
   ]
  },
  {
   "cell_type": "code",
   "execution_count": 48,
   "id": "b18f5ce5-77be-4003-b350-52d2f7a444fa",
   "metadata": {},
   "outputs": [],
   "source": [
    "arr = np.array([1, 2, 3])\n",
    "arr_plus_5 = arr + 5"
   ]
  },
  {
   "cell_type": "code",
   "execution_count": 50,
   "id": "1879777f-a984-4c02-a4a1-7b27382517ab",
   "metadata": {},
   "outputs": [],
   "source": [
    "arr = np.arange(1, 10).reshape(3, 3)\n"
   ]
  },
  {
   "cell_type": "code",
   "execution_count": 54,
   "id": "08b1eea8-3603-4ee3-b92b-b424f02ef82c",
   "metadata": {},
   "outputs": [],
   "source": [
    "arr = np.array([1, 2, 3, 4, 5])\n",
    "arr[arr % 2 != 0] = -1"
   ]
  },
  {
   "cell_type": "code",
   "execution_count": 58,
   "id": "c9b467c8-df76-4757-806d-9373f8c91522",
   "metadata": {},
   "outputs": [],
   "source": [
    "arr1 = np.array([1, 2])\n",
    "arr2 = np.array([3, 4])\n",
    "vstacked = np.vstack((arr1, arr2))\n",
    "hstacked = np.hstack((arr1, arr2))"
   ]
  },
  {
   "cell_type": "code",
   "execution_count": 61,
   "id": "f880a282-47d7-4de9-ab6e-e7529f254435",
   "metadata": {},
   "outputs": [],
   "source": [
    "arr = np.arange(1, 21)\n",
    "extracted = arr[(arr >= 5) & (arr <= 15)]\n"
   ]
  },
  {
   "cell_type": "code",
   "execution_count": 63,
   "id": "5b3c48f6-473a-4171-a204-7ed7e845858a",
   "metadata": {},
   "outputs": [],
   "source": [
    "arr = np.array([3, 1, 4, 1, 5])\n",
    "sorted_asc = np.sort(arr)\n",
    "sorted_desc = np.sort(arr)[::-1]"
   ]
  },
  {
   "cell_type": "code",
   "execution_count": 65,
   "id": "1f34dc92-3f97-4a34-97cd-fd60ebb9d16e",
   "metadata": {},
   "outputs": [],
   "source": [
    "A = np.array([[1, 2, 3], [4, 5, 6], [7, 8, 9]])\n",
    "B = np.array([[9, 8, 7], [6, 5, 4], [3, 2, 1]])\n",
    "result = np.dot(A, B)"
   ]
  },
  {
   "cell_type": "code",
   "execution_count": 67,
   "id": "91570e13-55ea-4afd-b9cf-19ea87792141",
   "metadata": {},
   "outputs": [],
   "source": [
    "arr = np.array([10, 20, 30, 40, 50])\n",
    "normalized_arr = (arr - np.min(arr)) / (np.max(arr) - np.min(arr))"
   ]
  },
  {
   "cell_type": "code",
   "execution_count": 69,
   "id": "618f24a5-4419-4c0c-bc88-ba1a7c61572d",
   "metadata": {},
   "outputs": [],
   "source": [
    "arr = np.ones((4, 4))\n",
    "np.fill_diagonal(arr, 5)"
   ]
  },
  {
   "cell_type": "code",
   "execution_count": 73,
   "id": "dc8919d0-f6a0-42df-a443-cab72ec2b459",
   "metadata": {},
   "outputs": [],
   "source": [
    "arr = np.array([[1, 2, 3], [0, 1, 4], [5, 6, 0]])\n",
    "inverse_arr = np.linalg.inv(arr)"
   ]
  },
  {
   "cell_type": "code",
   "execution_count": 81,
   "id": "11054f3c-f5af-493e-87ac-a802c955454d",
   "metadata": {},
   "outputs": [],
   "source": [
    "arr = np.random.rand(50)\n",
    "mean = np.mean(arr)\n",
    "std_dev = np.std(arr)"
   ]
  }
 ],
 "metadata": {
  "kernelspec": {
   "display_name": "Python [conda env:base] *",
   "language": "python",
   "name": "conda-base-py"
  },
  "language_info": {
   "codemirror_mode": {
    "name": "ipython",
    "version": 3
   },
   "file_extension": ".py",
   "mimetype": "text/x-python",
   "name": "python",
   "nbconvert_exporter": "python",
   "pygments_lexer": "ipython3",
   "version": "3.12.7"
  }
 },
 "nbformat": 4,
 "nbformat_minor": 5
}
